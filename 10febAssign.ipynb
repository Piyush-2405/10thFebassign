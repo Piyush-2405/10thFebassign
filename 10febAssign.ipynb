{
 "cells": [
  {
   "cell_type": "markdown",
   "id": "0ec892f4-0e16-477e-8a40-1d9191da916e",
   "metadata": {},
   "source": [
    "Q1. Which function is used to open a file? What are the different modes of opening a file? Explain each mode of file opening."
   ]
  },
  {
   "cell_type": "markdown",
   "id": "beceb0dd-8af1-43f9-bc19-4f8abe55bd0e",
   "metadata": {},
   "source": [
    "In Python, the built-in open() function is used to open a file. This function returns a file object which is used to perform various operations on the file such as reading, writing, appending, etc.\n",
    "\n",
    "Here are the different modes in which a file can be opened:\n",
    "\n",
    "* 'r': This is the default mode and it opens the file for reading. The file pointer is placed at the beginning of the file.\n",
    "\n",
    "* 'w': This mode opens the file for writing. If the file already exists, its contents are truncated. If the file does not exist, a new file is created.\n",
    "\n",
    "* 'a': This mode opens the file for appending. The file pointer is placed at the end of the file. If the file does not exist, a new file is created.\n",
    "\n",
    "* 'x': This mode creates a new file and opens it for writing. If the file already exists, an error is raised.\n",
    "\n",
    "* 'b': This mode is used to open a file in binary mode. This is typically used when working with non-text files such as images, audio files, etc.\n",
    "\n",
    "* 't': This mode is used to open a file in text mode. This is the default mode.\n",
    "\n",
    "* '+': This mode is used to open a file for both reading and writing (i.e., to create a file object that can read and write data to the file)."
   ]
  },
  {
   "cell_type": "markdown",
   "id": "b1898c73-9844-4c32-bd74-7c7026220c5c",
   "metadata": {},
   "source": [
    "Q2. Why close() function is used? Why is it important to close a file?"
   ]
  },
  {
   "cell_type": "markdown",
   "id": "a8965a5d-5dcc-40c7-be05-64e049cbab85",
   "metadata": {},
   "source": [
    "The close() function is used to close a file object in Python. It is important to close a file after it has been opened because it frees up system resources that were being used to keep the file open.\n",
    "\n",
    "When you open a file in Python using the open() function, the operating system creates a file object that allows your program to read or write to the file. The file object uses system resources, such as memory and file descriptors, to maintain its connection to the file on disk. If you do not close the file object after you are done using it, these system resources will remain allocated to the file object, even though you are no longer using it. This can cause problems if you open many files in your program and do not close them, as you can run out of system resources and your program may crash.\n",
    "\n",
    "Closing a file also ensures that any data that you have written to the file is flushed to disk. This means that the data is written from the system's memory cache to the physical storage on disk. If you do not close the file, there is a chance that some of the data you have written may not be saved to disk."
   ]
  },
  {
   "cell_type": "markdown",
   "id": "3746bdd3-110b-4d3d-a315-3dcdd94da7f5",
   "metadata": {},
   "source": [
    "Q3. Write a python program to create a text file. Write ‘I want to become a Data Scientist’ in that file. Then  close the file. Open this file and read the content of the file.   \n"
   ]
  },
  {
   "cell_type": "code",
   "execution_count": 13,
   "id": "426916f1-4642-4385-967f-b790e2851be1",
   "metadata": {},
   "outputs": [],
   "source": [
    "file = open(\"text.txt\", \"w\")"
   ]
  },
  {
   "cell_type": "code",
   "execution_count": 14,
   "id": "61907c90-33a7-431a-bf5a-9f09ce6313d5",
   "metadata": {},
   "outputs": [
    {
     "data": {
      "text/plain": [
       "33"
      ]
     },
     "execution_count": 14,
     "metadata": {},
     "output_type": "execute_result"
    }
   ],
   "source": [
    "file.write(\"I want to become a Data Scientist\")"
   ]
  },
  {
   "cell_type": "code",
   "execution_count": 16,
   "id": "8461970d-449f-406a-ad89-2ce63856ed03",
   "metadata": {},
   "outputs": [],
   "source": [
    "file.close()"
   ]
  },
  {
   "cell_type": "code",
   "execution_count": 18,
   "id": "d1214264-e590-4654-9452-05423f990bcf",
   "metadata": {},
   "outputs": [],
   "source": [
    "file = open(\"text.txt\", 'r')"
   ]
  },
  {
   "cell_type": "markdown",
   "id": "42d50c9b-a479-466b-89e2-caecbfadc8ce",
   "metadata": {},
   "source": [
    "Q4. Explain the following with python code: read(), readline() and readlines(). \n"
   ]
  },
  {
   "cell_type": "markdown",
   "id": "4c7ebc45-352c-4ab5-ba23-dab921c7d900",
   "metadata": {},
   "source": [
    "read ( ): Returns the read bytes in the form of a string. Reads n bytes; if n is not specified, then reads the entire file.\n",
    "\n",
    "readline ( ): Reads a line of the file and returns in the form of a string. For specified n, reads at most n bytes. readline ( ) function does not read more than one line at a time; even if n exceeds, it reads only one line. Readline ( ) function reads a line of the file and returns it in the string. It takes an integer value n as a parameter to read the number of characters read at a time. Readline ( ) method is very efficient in reading the data from a very large file because it fetches the data line by line and returns and prints on the screen. Readline ( ) returns the next line of the file, which contains a newline character in the end. Also, if the end of the file is reached, it will return an empty string.\n",
    "\n",
    "readlines ( ): Reads all the lines and returns them as a string element in a list. readlines ( ) is used to read all the lines at a single go and then return them as a string element in a list. This function can be used for small files, as it reads the whole file content to the memory, then splits it into separate lines. Using the strip () function, we can iterate over the list and strip the newline ' \\n ' character using the strip ( ) function."
   ]
  },
  {
   "cell_type": "markdown",
   "id": "1c205d9f-b59b-43b4-b7fb-1186f710984d",
   "metadata": {},
   "source": [
    "Q5. Explain why with statement is used with open(). What is the advantage of using with statement and  open() together? \n"
   ]
  },
  {
   "cell_type": "markdown",
   "id": "2d0b7e42-45f8-44ea-a5d1-91526a74545a",
   "metadata": {},
   "source": [
    "When you call the open() function using the with statement, the file closes automatically after you've processed the file. The with statement is a replacement for commonly used try/finally error-handling statements. A common example of using the with statement is opening a file.\n",
    "\n",
    "The with statement works with the open() function to open a file. Unlike open() where you have to close the file with the close() method, the with statement closes the file for you without you telling it to. This is because the with statement calls 2 built-in methods behind the scene – __enter()__ and __exit()__ ."
   ]
  },
  {
   "cell_type": "markdown",
   "id": "67edc7e7-0451-4009-b0d7-816178944c0a",
   "metadata": {},
   "source": [
    "Q6. Explain the write() and writelines() functions. Give a suitable example. \n"
   ]
  },
  {
   "cell_type": "markdown",
   "id": "495b88bc-d64e-40ea-ba41-b2583f566054",
   "metadata": {},
   "source": [
    "write() function\n",
    "\n",
    "The write() function will write the content in the file without adding any extra characters.\n",
    "\n",
    "Syntax: \n",
    "\n",
    "# Writes string content referenced by file object.\n",
    "file_name.write(content) \n",
    "\n",
    "As per the syntax, the string that is passed to the write() function is written into the opened file. The string may include numbers, special characters, or symbols. While writing data to a file, we must know that the write function does not add a newline character(\\n) to the end of the string. The write() function returns None."
   ]
  },
  {
   "cell_type": "code",
   "execution_count": 20,
   "id": "f8701240-fec3-435a-982f-505205d5ac43",
   "metadata": {},
   "outputs": [
    {
     "name": "stdin",
     "output_type": "stream",
     "text": [
      "Enter the name of the employee:  Piyush\n",
      "Enter the name of the employee:  Deepanshu\n",
      "Enter the name of the employee:  Priyanshu\n"
     ]
    },
    {
     "name": "stdout",
     "output_type": "stream",
     "text": [
      "Data is written into the file.\n"
     ]
    }
   ],
   "source": [
    "file = open(\"Employees.txt\", \"w\")\n",
    "\n",
    "for i in range(3):\n",
    "    name = input(\"Enter the name of the employee: \")\n",
    "    file.write(name)\n",
    "    file.write(\"\\n\")\n",
    "\t\n",
    "file.close()\n",
    "\n",
    "print(\"Data is written into the file.\")\n"
   ]
  },
  {
   "cell_type": "markdown",
   "id": "46f4bd05-0486-4dc7-88ae-1df0f28d227f",
   "metadata": {},
   "source": [
    "writelines() function\n",
    "\n",
    "This function writes the content of a list to a file.\n",
    "\n",
    "Syntax:   \n",
    "\n",
    "# write all the strings present in the list \"list_of_lines\" \n",
    "# referenced by file object.\n",
    "file_name.writelines(list_of_lines)\n",
    "\n",
    "As per the syntax, the list of strings that is passed to the writelines() function is written into the opened file. Similar to the write() function, the writelines() function does not add a newline character(\\n) to the end of the string."
   ]
  },
  {
   "cell_type": "code",
   "execution_count": 22,
   "id": "1ccd917f-fa69-4fbd-a796-707f9c770519",
   "metadata": {},
   "outputs": [
    {
     "name": "stdin",
     "output_type": "stream",
     "text": [
      "Enter the name of the employee:  Rk\n",
      "Enter the name of the employee:  Pk\n",
      "Enter the name of the employee:  Vk\n"
     ]
    },
    {
     "name": "stdout",
     "output_type": "stream",
     "text": [
      "Data is written into the file.\n"
     ]
    }
   ],
   "source": [
    "file1 = open(\"employees.txt\", \"w\")\n",
    "lst = []\n",
    "for i in range(3):\n",
    "\tname = input(\"Enter the name of the employee: \")\n",
    "\tlst.append(name + '\\n')\n",
    "\t\n",
    "file1.writelines(lst)\n",
    "file1.close()\n",
    "print(\"Data is written into the file.\")\n"
   ]
  },
  {
   "cell_type": "markdown",
   "id": "c44001b9-b810-4c91-8879-9c9ec783535f",
   "metadata": {},
   "source": [
    "The only difference between the write() and writelines() is that write() is used to write a string to an already opened file while writelines() method is used to write a list of strings in an opened file."
   ]
  }
 ],
 "metadata": {
  "kernelspec": {
   "display_name": "Python 3 (ipykernel)",
   "language": "python",
   "name": "python3"
  },
  "language_info": {
   "codemirror_mode": {
    "name": "ipython",
    "version": 3
   },
   "file_extension": ".py",
   "mimetype": "text/x-python",
   "name": "python",
   "nbconvert_exporter": "python",
   "pygments_lexer": "ipython3",
   "version": "3.10.8"
  }
 },
 "nbformat": 4,
 "nbformat_minor": 5
}
